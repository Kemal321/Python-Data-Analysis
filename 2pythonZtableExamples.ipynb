{
 "cells": [
  {
   "cell_type": "markdown",
   "metadata": {},
   "source": [
    "Notlarda görüdğümüz z tablosu örneklerinin pythonda uygulanışını çalışacağım. Aşağıda yer alacak bilgiler bu konu hakkında olacaktır."
   ]
  },
  {
   "cell_type": "code",
   "execution_count": 2,
   "metadata": {},
   "outputs": [],
   "source": [
    "from scipy.stats import norm # Önemli olan bu kütüphane bundan yararlanacağız özellikle istatistik için bir kütüphanesi mevcut. "
   ]
  },
  {
   "cell_type": "markdown",
   "metadata": {},
   "source": [
    "###### yüzde 21 bulması gerekiyor\n",
    "###### bu şekilde buradaki herşey dile uygun zaten Kümülatif yoğunluk fonksiyonu zaten\n",
    "###### temel istatistik dersi aldığımız içni biliyoruz. Loc lokasyondan geliyor 0 a yerleştirilen ortalam \n",
    "###### konum olarak 0 da olmasından doalyı location ın kısaltılması ile kullanılır\n",
    "###### scale de standart sapma çünkü dağılımı anlamlandırmak için standart sapmayı kjullandık tablodda"
   ]
  },
  {
   "cell_type": "code",
   "execution_count": 4,
   "metadata": {},
   "outputs": [
    {
     "name": "stdout",
     "output_type": "stream",
     "text": [
      "0.21185539858339675\n"
     ]
    }
   ],
   "source": [
    "olasılık = norm(loc=5.3,scale=1).cdf(4.5) \n",
    "print(olasılık) \n"
   ]
  }
 ],
 "metadata": {
  "kernelspec": {
   "display_name": "Python 3",
   "language": "python",
   "name": "python3"
  },
  "language_info": {
   "codemirror_mode": {
    "name": "ipython",
    "version": 3
   },
   "file_extension": ".py",
   "mimetype": "text/x-python",
   "name": "python",
   "nbconvert_exporter": "python",
   "pygments_lexer": "ipython3",
   "version": "3.12.5"
  },
  "orig_nbformat": 4
 },
 "nbformat": 4,
 "nbformat_minor": 2
}
